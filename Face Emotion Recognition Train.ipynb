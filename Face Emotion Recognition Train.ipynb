{
 "cells": [
  {
   "cell_type": "code",
   "execution_count": 1,
   "id": "3db46446",
   "metadata": {},
   "outputs": [
    {
     "name": "stdout",
     "output_type": "stream",
     "text": [
      "Requirement already satisfied: keras in d:\\ngit\\sem - 5\\mini project\\emojify\\emo\\lib\\site-packages (2.11.0)\n"
     ]
    }
   ],
   "source": [
    "!pip install keras"
   ]
  },
  {
   "cell_type": "code",
   "execution_count": 2,
   "id": "24f7d45c",
   "metadata": {},
   "outputs": [],
   "source": [
    "import numpy as np\n",
    "import cv2\n",
    "\n",
    "from tensorflow.keras.models import Sequential\n",
    "from tensorflow.keras.layers import Dense, Dropout, Flatten\n",
    "from tensorflow.keras.layers import Conv2D\n",
    "from tensorflow.keras.optimizers import Adam\n",
    "from tensorflow.keras.layers import MaxPooling2D\n",
    "from tensorflow.keras.preprocessing.image import ImageDataGenerator"
   ]
  },
  {
   "cell_type": "code",
   "execution_count": 3,
   "id": "e33d834d",
   "metadata": {},
   "outputs": [
    {
     "name": "stdout",
     "output_type": "stream",
     "text": [
      "Found 28709 images belonging to 7 classes.\n",
      "Found 7178 images belonging to 7 classes.\n"
     ]
    }
   ],
   "source": [
    "train_dir = 'train'\n",
    "val_dir = 'test'\n",
    "train_datagen = ImageDataGenerator(rescale=1./255)\n",
    "val_datagen = ImageDataGenerator(rescale=1./255)\n",
    "\n",
    "train_generator = train_datagen.flow_from_directory(\n",
    "        train_dir,\n",
    "        target_size=(48,48),\n",
    "        batch_size=64,\n",
    "        color_mode=\"grayscale\",\n",
    "        class_mode='categorical')\n",
    "\n",
    "validation_generator = val_datagen.flow_from_directory(\n",
    "        val_dir,\n",
    "        target_size=(48,48),\n",
    "        batch_size=64,\n",
    "        color_mode=\"grayscale\",\n",
    "        class_mode='categorical')"
   ]
  },
  {
   "cell_type": "code",
   "execution_count": 4,
   "id": "38fb782f",
   "metadata": {},
   "outputs": [],
   "source": [
    "emotion_model = Sequential()\n",
    "\n",
    "emotion_model.add(Conv2D(32, kernel_size=(3, 3), activation='relu', input_shape=(48,48,1)))\n",
    "emotion_model.add(Conv2D(64, kernel_size=(3, 3), activation='relu'))\n",
    "emotion_model.add(MaxPooling2D(pool_size=(2, 2)))\n",
    "emotion_model.add(Dropout(0.25))\n",
    "\n",
    "emotion_model.add(Conv2D(128, kernel_size=(3, 3), activation='relu'))\n",
    "emotion_model.add(MaxPooling2D(pool_size=(2, 2)))\n",
    "emotion_model.add(Conv2D(128, kernel_size=(3, 3), activation='relu'))\n",
    "emotion_model.add(MaxPooling2D(pool_size=(2, 2)))\n",
    "emotion_model.add(Dropout(0.25))\n",
    "\n",
    "emotion_model.add(Flatten())\n",
    "emotion_model.add(Dense(1024, activation='relu'))\n",
    "emotion_model.add(Dropout(0.5))\n",
    "emotion_model.add(Dense(7, activation='softmax'))"
   ]
  },
  {
   "cell_type": "code",
   "execution_count": 5,
   "id": "6dd2951e",
   "metadata": {},
   "outputs": [
    {
     "name": "stderr",
     "output_type": "stream",
     "text": [
      "C:\\ProgramData\\Anaconda3\\lib\\site-packages\\keras\\optimizer_v2\\adam.py:105: UserWarning: The `lr` argument is deprecated, use `learning_rate` instead.\n",
      "  super(Adam, self).__init__(name, **kwargs)\n"
     ]
    },
    {
     "name": "stdout",
     "output_type": "stream",
     "text": [
      "Epoch 1/50\n",
      "448/448 [==============================] - 237s 521ms/step - loss: 1.8047 - accuracy: 0.2530 - val_loss: 1.7169 - val_accuracy: 0.3266\n",
      "Epoch 2/50\n",
      "448/448 [==============================] - 142s 316ms/step - loss: 1.6304 - accuracy: 0.3609 - val_loss: 1.5379 - val_accuracy: 0.4212\n",
      "Epoch 3/50\n",
      "448/448 [==============================] - 177s 394ms/step - loss: 1.5228 - accuracy: 0.4139 - val_loss: 1.4630 - val_accuracy: 0.4449\n",
      "Epoch 4/50\n",
      "448/448 [==============================] - 215s 480ms/step - loss: 1.4514 - accuracy: 0.4468 - val_loss: 1.3806 - val_accuracy: 0.4775\n",
      "Epoch 5/50\n",
      "448/448 [==============================] - 218s 487ms/step - loss: 1.3837 - accuracy: 0.4748 - val_loss: 1.3337 - val_accuracy: 0.4943\n",
      "Epoch 6/50\n",
      "448/448 [==============================] - 193s 431ms/step - loss: 1.3323 - accuracy: 0.4940 - val_loss: 1.2992 - val_accuracy: 0.5046\n",
      "Epoch 7/50\n",
      "448/448 [==============================] - 189s 422ms/step - loss: 1.2854 - accuracy: 0.5158 - val_loss: 1.2598 - val_accuracy: 0.5190\n",
      "Epoch 8/50\n",
      "448/448 [==============================] - 188s 418ms/step - loss: 1.2453 - accuracy: 0.5293 - val_loss: 1.2371 - val_accuracy: 0.5294\n",
      "Epoch 9/50\n",
      "448/448 [==============================] - 193s 431ms/step - loss: 1.2114 - accuracy: 0.5409 - val_loss: 1.2105 - val_accuracy: 0.5392\n",
      "Epoch 10/50\n",
      "448/448 [==============================] - 189s 422ms/step - loss: 1.1786 - accuracy: 0.5570 - val_loss: 1.1864 - val_accuracy: 0.5459\n",
      "Epoch 11/50\n",
      "448/448 [==============================] - 190s 423ms/step - loss: 1.1481 - accuracy: 0.5706 - val_loss: 1.1689 - val_accuracy: 0.5527\n",
      "Epoch 12/50\n",
      "448/448 [==============================] - 192s 429ms/step - loss: 1.1254 - accuracy: 0.5782 - val_loss: 1.1780 - val_accuracy: 0.5537\n",
      "Epoch 13/50\n",
      "448/448 [==============================] - 188s 419ms/step - loss: 1.0971 - accuracy: 0.5912 - val_loss: 1.1412 - val_accuracy: 0.5656\n",
      "Epoch 14/50\n",
      "448/448 [==============================] - 197s 439ms/step - loss: 1.0701 - accuracy: 0.6002 - val_loss: 1.1276 - val_accuracy: 0.5698\n",
      "Epoch 15/50\n",
      "448/448 [==============================] - 190s 424ms/step - loss: 1.0438 - accuracy: 0.6110 - val_loss: 1.1225 - val_accuracy: 0.5756\n",
      "Epoch 16/50\n",
      "448/448 [==============================] - 184s 410ms/step - loss: 1.0188 - accuracy: 0.6221 - val_loss: 1.1043 - val_accuracy: 0.5880\n",
      "Epoch 17/50\n",
      "448/448 [==============================] - 183s 409ms/step - loss: 0.9991 - accuracy: 0.6298 - val_loss: 1.1122 - val_accuracy: 0.5795\n",
      "Epoch 18/50\n",
      "448/448 [==============================] - 184s 412ms/step - loss: 0.9722 - accuracy: 0.6398 - val_loss: 1.0952 - val_accuracy: 0.5869\n",
      "Epoch 19/50\n",
      "448/448 [==============================] - 187s 417ms/step - loss: 0.9504 - accuracy: 0.6485 - val_loss: 1.0872 - val_accuracy: 0.5928\n",
      "Epoch 20/50\n",
      "448/448 [==============================] - 185s 414ms/step - loss: 0.9276 - accuracy: 0.6566 - val_loss: 1.0838 - val_accuracy: 0.5942\n",
      "Epoch 21/50\n",
      "448/448 [==============================] - 189s 422ms/step - loss: 0.8997 - accuracy: 0.6699 - val_loss: 1.0915 - val_accuracy: 0.5931\n",
      "Epoch 22/50\n",
      "448/448 [==============================] - 184s 411ms/step - loss: 0.8731 - accuracy: 0.6780 - val_loss: 1.0823 - val_accuracy: 0.5968\n",
      "Epoch 23/50\n",
      "448/448 [==============================] - 183s 409ms/step - loss: 0.8551 - accuracy: 0.6826 - val_loss: 1.0807 - val_accuracy: 0.6051\n",
      "Epoch 24/50\n",
      "448/448 [==============================] - 183s 409ms/step - loss: 0.8330 - accuracy: 0.6976 - val_loss: 1.0811 - val_accuracy: 0.6090\n",
      "Epoch 25/50\n",
      "448/448 [==============================] - 184s 410ms/step - loss: 0.8090 - accuracy: 0.7041 - val_loss: 1.0817 - val_accuracy: 0.6083\n",
      "Epoch 26/50\n",
      "448/448 [==============================] - 185s 412ms/step - loss: 0.7859 - accuracy: 0.7103 - val_loss: 1.0776 - val_accuracy: 0.6097\n",
      "Epoch 27/50\n",
      "448/448 [==============================] - 183s 409ms/step - loss: 0.7574 - accuracy: 0.7253 - val_loss: 1.0865 - val_accuracy: 0.6083\n",
      "Epoch 28/50\n",
      "448/448 [==============================] - 186s 415ms/step - loss: 0.7360 - accuracy: 0.7338 - val_loss: 1.0911 - val_accuracy: 0.6076\n",
      "Epoch 29/50\n",
      "448/448 [==============================] - 186s 416ms/step - loss: 0.7171 - accuracy: 0.7403 - val_loss: 1.0811 - val_accuracy: 0.6169\n",
      "Epoch 30/50\n",
      "448/448 [==============================] - 185s 413ms/step - loss: 0.6919 - accuracy: 0.7499 - val_loss: 1.0823 - val_accuracy: 0.6194\n",
      "Epoch 31/50\n",
      "448/448 [==============================] - 182s 406ms/step - loss: 0.6685 - accuracy: 0.7570 - val_loss: 1.0836 - val_accuracy: 0.6164\n",
      "Epoch 32/50\n",
      "448/448 [==============================] - 182s 407ms/step - loss: 0.6356 - accuracy: 0.7683 - val_loss: 1.0928 - val_accuracy: 0.6147\n",
      "Epoch 33/50\n",
      "448/448 [==============================] - 184s 410ms/step - loss: 0.6229 - accuracy: 0.7742 - val_loss: 1.0882 - val_accuracy: 0.6198\n",
      "Epoch 34/50\n",
      "448/448 [==============================] - 184s 410ms/step - loss: 0.5985 - accuracy: 0.7830 - val_loss: 1.1003 - val_accuracy: 0.6191\n",
      "Epoch 35/50\n",
      "448/448 [==============================] - 184s 411ms/step - loss: 0.5812 - accuracy: 0.7899 - val_loss: 1.1230 - val_accuracy: 0.6193\n",
      "Epoch 36/50\n",
      "448/448 [==============================] - 186s 414ms/step - loss: 0.5615 - accuracy: 0.8003 - val_loss: 1.1202 - val_accuracy: 0.6244\n",
      "Epoch 37/50\n",
      "448/448 [==============================] - 186s 415ms/step - loss: 0.5389 - accuracy: 0.8049 - val_loss: 1.1265 - val_accuracy: 0.6219\n",
      "Epoch 38/50\n",
      "448/448 [==============================] - 186s 416ms/step - loss: 0.5231 - accuracy: 0.8099 - val_loss: 1.1260 - val_accuracy: 0.6207\n",
      "Epoch 39/50\n",
      "448/448 [==============================] - 187s 418ms/step - loss: 0.5034 - accuracy: 0.8168 - val_loss: 1.1481 - val_accuracy: 0.6218\n",
      "Epoch 40/50\n",
      "448/448 [==============================] - 189s 421ms/step - loss: 0.4895 - accuracy: 0.8220 - val_loss: 1.1594 - val_accuracy: 0.6218\n",
      "Epoch 41/50\n",
      "448/448 [==============================] - 187s 418ms/step - loss: 0.4690 - accuracy: 0.8309 - val_loss: 1.1820 - val_accuracy: 0.6247\n",
      "Epoch 42/50\n",
      "448/448 [==============================] - 186s 414ms/step - loss: 0.4614 - accuracy: 0.8348 - val_loss: 1.1698 - val_accuracy: 0.6218\n",
      "Epoch 43/50\n",
      "448/448 [==============================] - 192s 428ms/step - loss: 0.4345 - accuracy: 0.8419 - val_loss: 1.1545 - val_accuracy: 0.6229\n",
      "Epoch 44/50\n",
      "448/448 [==============================] - 184s 410ms/step - loss: 0.4285 - accuracy: 0.8441 - val_loss: 1.1786 - val_accuracy: 0.6230\n",
      "Epoch 45/50\n",
      "448/448 [==============================] - 184s 411ms/step - loss: 0.4071 - accuracy: 0.8549 - val_loss: 1.2053 - val_accuracy: 0.6204\n",
      "Epoch 46/50\n",
      "448/448 [==============================] - 185s 413ms/step - loss: 0.3989 - accuracy: 0.8567 - val_loss: 1.1919 - val_accuracy: 0.6250\n",
      "Epoch 47/50\n",
      "448/448 [==============================] - 184s 411ms/step - loss: 0.3817 - accuracy: 0.8648 - val_loss: 1.2206 - val_accuracy: 0.6214\n",
      "Epoch 48/50\n",
      "448/448 [==============================] - 185s 414ms/step - loss: 0.3737 - accuracy: 0.8679 - val_loss: 1.2297 - val_accuracy: 0.6236\n",
      "Epoch 49/50\n",
      "448/448 [==============================] - 188s 420ms/step - loss: 0.3620 - accuracy: 0.8693 - val_loss: 1.2155 - val_accuracy: 0.6191\n",
      "Epoch 50/50\n",
      "448/448 [==============================] - 191s 426ms/step - loss: 0.3507 - accuracy: 0.8743 - val_loss: 1.2348 - val_accuracy: 0.6247\n"
     ]
    }
   ],
   "source": [
    "emotion_model.compile(loss='categorical_crossentropy',optimizer=Adam(lr=0.0001, decay=1e-6),metrics=['accuracy'])\n",
    "\n",
    "emotion_model_info = emotion_model.fit(\n",
    "        train_generator,\n",
    "        steps_per_epoch=28709 // 64,\n",
    "        epochs=50,\n",
    "        validation_data=validation_generator,\n",
    "        validation_steps=7178 // 64)"
   ]
  },
  {
   "cell_type": "code",
   "execution_count": 6,
   "id": "ce3996c8",
   "metadata": {},
   "outputs": [],
   "source": [
    "emotion_model.save_weights('emo.1')"
   ]
  },
  {
   "cell_type": "code",
   "execution_count": 11,
   "id": "bcb67172",
   "metadata": {},
   "outputs": [
    {
     "ename": "KeyboardInterrupt",
     "evalue": "",
     "output_type": "error",
     "traceback": [
      "\u001b[1;31m---------------------------------------------------------------------------\u001b[0m",
      "\u001b[1;31mKeyboardInterrupt\u001b[0m                         Traceback (most recent call last)",
      "\u001b[1;32m<ipython-input-11-d5b7eb3bc919>\u001b[0m in \u001b[0;36m<module>\u001b[1;34m\u001b[0m\n\u001b[0;32m      8\u001b[0m     \u001b[1;32mif\u001b[0m \u001b[1;32mnot\u001b[0m \u001b[0mret\u001b[0m\u001b[1;33m:\u001b[0m\u001b[1;33m\u001b[0m\u001b[1;33m\u001b[0m\u001b[0m\n\u001b[0;32m      9\u001b[0m         \u001b[1;32mbreak\u001b[0m\u001b[1;33m\u001b[0m\u001b[1;33m\u001b[0m\u001b[0m\n\u001b[1;32m---> 10\u001b[1;33m     \u001b[0mbounding_box\u001b[0m \u001b[1;33m=\u001b[0m \u001b[0mcv2\u001b[0m\u001b[1;33m.\u001b[0m\u001b[0mCascadeClassifier\u001b[0m\u001b[1;33m(\u001b[0m\u001b[1;34m'emo/Lib/site-packages/cv2/data/haarcascade_frontalface_default.xml'\u001b[0m\u001b[1;33m)\u001b[0m\u001b[1;33m\u001b[0m\u001b[1;33m\u001b[0m\u001b[0m\n\u001b[0m\u001b[0;32m     11\u001b[0m     \u001b[0mgray_frame\u001b[0m \u001b[1;33m=\u001b[0m \u001b[0mcv2\u001b[0m\u001b[1;33m.\u001b[0m\u001b[0mcvtColor\u001b[0m\u001b[1;33m(\u001b[0m\u001b[0mframe\u001b[0m\u001b[1;33m,\u001b[0m \u001b[0mcv2\u001b[0m\u001b[1;33m.\u001b[0m\u001b[0mCOLOR_BGR2GRAY\u001b[0m\u001b[1;33m)\u001b[0m\u001b[1;33m\u001b[0m\u001b[1;33m\u001b[0m\u001b[0m\n\u001b[0;32m     12\u001b[0m     \u001b[0mnum_faces\u001b[0m \u001b[1;33m=\u001b[0m \u001b[0mbounding_box\u001b[0m\u001b[1;33m.\u001b[0m\u001b[0mdetectMultiScale\u001b[0m\u001b[1;33m(\u001b[0m\u001b[0mgray_frame\u001b[0m\u001b[1;33m,\u001b[0m\u001b[0mscaleFactor\u001b[0m\u001b[1;33m=\u001b[0m\u001b[1;36m1.3\u001b[0m\u001b[1;33m,\u001b[0m \u001b[0mminNeighbors\u001b[0m\u001b[1;33m=\u001b[0m\u001b[1;36m5\u001b[0m\u001b[1;33m)\u001b[0m\u001b[1;33m\u001b[0m\u001b[1;33m\u001b[0m\u001b[0m\n",
      "\u001b[1;31mKeyboardInterrupt\u001b[0m: "
     ]
    }
   ],
   "source": [
    "cv2.ocl.setUseOpenCL(False)\n",
    "\n",
    "emotion_dict = {0: \"Angry\", 1: \"Disgusted\", 2: \"Fearful\", 3: \"Happy\", 4: \"Neutral\", 5: \"Sad\", 6: \"Surprised\"}\n",
    "\n",
    "cap = cv2.VideoCapture(0)\n",
    "while True:\n",
    "    ret, frame = cap.read()\n",
    "    if not ret:\n",
    "        break\n",
    "    bounding_box = cv2.CascadeClassifier('emo/Lib/site-packages/cv2/data/haarcascade_frontalface_default.xml')\n",
    "    gray_frame = cv2.cvtColor(frame, cv2.COLOR_BGR2GRAY)\n",
    "    num_faces = bounding_box.detectMultiScale(gray_frame,scaleFactor=1.3, minNeighbors=5)\n",
    "\n",
    "    for (x, y, w, h) in num_faces:\n",
    "        cv2.rectangle(frame, (x, y-50), (x+w, y+h+10), (255, 0, 0), 2)\n",
    "        roi_gray_frame = gray_frame[y:y + h, x:x + w]\n",
    "        cropped_img = np.expand_dims(np.expand_dims(cv2.resize(roi_gray_frame, (48, 48)), -1), 0)\n",
    "        emotion_prediction = emotion_model.predict(cropped_img)\n",
    "        maxindex = int(np.argmax(emotion_prediction))\n",
    "        cv2.putText(frame, emotion_dict[maxindex], (x+20, y-60), cv2.FONT_HERSHEY_SIMPLEX, 1, (255, 255, 255), 2, cv2.LINE_AA)\n",
    "\n",
    "    cv2.imshow('Video', cv2.resize(frame,(1200,860),interpolation = cv2.INTER_CUBIC))\n",
    "    if cv2.waitKey(1) & 0xFF == ord('q'):\n",
    "        cap.release()\n",
    "        cv2.destroyAllWindows()\n",
    "        break"
   ]
  }
 ],
 "metadata": {
  "kernelspec": {
   "display_name": "Python 3 (ipykernel)",
   "language": "python",
   "name": "python3"
  },
  "language_info": {
   "codemirror_mode": {
    "name": "ipython",
    "version": 3
   },
   "file_extension": ".py",
   "mimetype": "text/x-python",
   "name": "python",
   "nbconvert_exporter": "python",
   "pygments_lexer": "ipython3",
   "version": "3.9.7"
  }
 },
 "nbformat": 4,
 "nbformat_minor": 5
}
